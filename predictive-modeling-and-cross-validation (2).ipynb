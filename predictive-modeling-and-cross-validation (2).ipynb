{
 "cells": [
  {
   "cell_type": "code",
   "execution_count": 1,
   "id": "477fc68e",
   "metadata": {
    "_cell_guid": "b1076dfc-b9ad-4769-8c92-a6c4dae69d19",
    "_uuid": "8f2839f25d086af736a60e9eeb907d3b93b6e0e5",
    "execution": {
     "iopub.execute_input": "2025-10-16T19:55:40.030703Z",
     "iopub.status.busy": "2025-10-16T19:55:40.030438Z",
     "iopub.status.idle": "2025-10-16T19:55:40.468305Z",
     "shell.execute_reply": "2025-10-16T19:55:40.467341Z"
    },
    "papermill": {
     "duration": 0.444927,
     "end_time": "2025-10-16T19:55:40.469613",
     "exception": false,
     "start_time": "2025-10-16T19:55:40.024686",
     "status": "completed"
    },
    "tags": []
   },
   "outputs": [
    {
     "name": "stdout",
     "output_type": "stream",
     "text": [
      "Path to dataset files: /kaggle/input/spy-1-minute-data\n"
     ]
    }
   ],
   "source": [
    "import kagglehub\n",
    "\n",
    "# Download latest version\n",
    "path = kagglehub.dataset_download(\"rockinbrock/spy-1-minute-data\")\n",
    "\n",
    "print(\"Path to dataset files:\", path)"
   ]
  },
  {
   "cell_type": "code",
   "execution_count": 2,
   "id": "0d762673",
   "metadata": {
    "execution": {
     "iopub.execute_input": "2025-10-16T19:55:40.479001Z",
     "iopub.status.busy": "2025-10-16T19:55:40.478371Z",
     "iopub.status.idle": "2025-10-16T19:56:01.309571Z",
     "shell.execute_reply": "2025-10-16T19:56:01.308692Z"
    },
    "papermill": {
     "duration": 20.836882,
     "end_time": "2025-10-16T19:56:01.310753",
     "exception": false,
     "start_time": "2025-10-16T19:55:40.473871",
     "status": "completed"
    },
    "tags": []
   },
   "outputs": [
    {
     "name": "stdout",
     "output_type": "stream",
     "text": [
      "📦 Installing required packages...\n",
      "✅ Imports complete\n",
      "\n"
     ]
    }
   ],
   "source": [
    "# ===================================================================\n",
    "# BLOCK 1: Package Installation & Imports\n",
    "# ===================================================================\n",
    "\n",
    "import subprocess\n",
    "import sys\n",
    "\n",
    "print(\"📦 Installing required packages...\")\n",
    "packages = ['xgboost', 'lightgbm', 'scikit-learn', 'optuna']\n",
    "for pkg in packages:\n",
    "    subprocess.check_call([sys.executable, '-m', 'pip', 'install', '-q', pkg])\n",
    "\n",
    "import numpy as np\n",
    "import pandas as pd\n",
    "import matplotlib.pyplot as plt\n",
    "import seaborn as sns\n",
    "from pathlib import Path\n",
    "from sklearn.metrics import roc_auc_score, accuracy_score, confusion_matrix, classification_report\n",
    "from sklearn.ensemble import RandomForestClassifier\n",
    "from xgboost import XGBClassifier\n",
    "from lightgbm import LGBMClassifier\n",
    "import copy\n",
    "import warnings\n",
    "warnings.filterwarnings('ignore')\n",
    "\n",
    "print(\"✅ Imports complete\\n\")"
   ]
  },
  {
   "cell_type": "code",
   "execution_count": 3,
   "id": "a5b1f013",
   "metadata": {
    "execution": {
     "iopub.execute_input": "2025-10-16T19:56:01.320286Z",
     "iopub.status.busy": "2025-10-16T19:56:01.319788Z",
     "iopub.status.idle": "2025-10-16T19:56:05.136698Z",
     "shell.execute_reply": "2025-10-16T19:56:05.135766Z"
    },
    "papermill": {
     "duration": 3.82282,
     "end_time": "2025-10-16T19:56:05.137893",
     "exception": false,
     "start_time": "2025-10-16T19:56:01.315073",
     "status": "completed"
    },
    "tags": []
   },
   "outputs": [
    {
     "name": "stdout",
     "output_type": "stream",
     "text": [
      "📂 STEP 1: DATA LOADING\n",
      "======================================================================\n",
      "Loading: spy_1min_2008_2021_cleaned.csv\n",
      "Raw shape: (2070834, 8)\n",
      "Clean shape: (2070834, 5)\n",
      "Date range: 2008-01-22 07:30:00 to 2021-05-06 13:59:00\n",
      "✅ Step 1 Complete\n",
      "\n"
     ]
    }
   ],
   "source": [
    "print(\"📂 STEP 1: DATA LOADING\")\n",
    "print(\"=\"*70)\n",
    "\n",
    "data_dir = Path(\"/kaggle/input/spy-1-minute-data\")\n",
    "csv_file = sorted(data_dir.glob(\"*.csv\"))[0]\n",
    "print(f\"Loading: {csv_file.name}\")\n",
    "\n",
    "df = pd.read_csv(csv_file)\n",
    "print(f\"Raw shape: {df.shape}\")\n",
    "\n",
    "df.columns = [c.lower() for c in df.columns]\n",
    "\n",
    "if 'datetime' in df.columns:\n",
    "    df['datetime'] = pd.to_datetime(df['datetime'])\n",
    "elif 'date' in df.columns:\n",
    "    df['datetime'] = pd.to_datetime(df['date'])\n",
    "\n",
    "df = df.set_index('datetime').sort_index()\n",
    "\n",
    "keep = [c for c in ['open', 'high', 'low', 'close', 'volume'] if c in df.columns]\n",
    "X_raw = df[keep].copy()\n",
    "\n",
    "print(f\"Clean shape: {X_raw.shape}\")\n",
    "print(f\"Date range: {X_raw.index.min()} to {X_raw.index.max()}\")\n",
    "print(\"✅ Step 1 Complete\\n\")\n"
   ]
  },
  {
   "cell_type": "code",
   "execution_count": 4,
   "id": "afdb7933",
   "metadata": {
    "execution": {
     "iopub.execute_input": "2025-10-16T19:56:05.147358Z",
     "iopub.status.busy": "2025-10-16T19:56:05.147128Z",
     "iopub.status.idle": "2025-10-16T19:56:05.309063Z",
     "shell.execute_reply": "2025-10-16T19:56:05.307954Z"
    },
    "papermill": {
     "duration": 0.167917,
     "end_time": "2025-10-16T19:56:05.310245",
     "exception": false,
     "start_time": "2025-10-16T19:56:05.142328",
     "status": "completed"
    },
    "tags": []
   },
   "outputs": [
    {
     "name": "stdout",
     "output_type": "stream",
     "text": [
      "======================================================================\n",
      "🏷  STEP 2: LABEL GENERATION\n",
      "======================================================================\n",
      "Horizon: 15 minutes\n",
      "Valid samples: 2,070,834\n",
      "Label distribution:\n",
      "close\n",
      "0    0.503216\n",
      "1    0.496784\n",
      "Name: proportion, dtype: float64\n",
      "\n",
      "📅 Creating events structure...\n",
      "Events created: 2,070,834\n",
      "✅ Step 2 Complete\n",
      "\n"
     ]
    }
   ],
   "source": [
    " \n",
    "print(\"=\"*70)\n",
    "print(\"🏷  STEP 2: LABEL GENERATION\")\n",
    "print(\"=\"*70)\n",
    "\n",
    "H = 15\n",
    "print(f\"Horizon: {H} minutes\")\n",
    "\n",
    "ret = X_raw['close'].shift(-H).div(X_raw['close']).sub(1.0)\n",
    "y = (ret > 0.0).astype(int)\n",
    "\n",
    "valid = y.notna()\n",
    "X_raw = X_raw.loc[valid]\n",
    "y = y.loc[valid]\n",
    "\n",
    "print(f\"Valid samples: {len(y):,}\")\n",
    "print(f\"Label distribution:\")\n",
    "print(y.value_counts(normalize=True))\n",
    "\n",
    "print(\"\\n📅 Creating events structure...\")\n",
    "events = pd.DataFrame(index=X_raw.index)\n",
    "events['t1'] = X_raw.index + pd.Timedelta(minutes=H)\n",
    "max_time = X_raw.index[-1]\n",
    "events['t1'] = events['t1'].where(events['t1'] <= max_time, max_time)\n",
    "\n",
    "print(f\"Events created: {len(events):,}\")\n",
    "print(\"✅ Step 2 Complete\\n\")\n"
   ]
  },
  {
   "cell_type": "code",
   "execution_count": 5,
   "id": "95e16407",
   "metadata": {
    "execution": {
     "iopub.execute_input": "2025-10-16T19:56:05.320046Z",
     "iopub.status.busy": "2025-10-16T19:56:05.319452Z",
     "iopub.status.idle": "2025-10-16T19:56:05.331058Z",
     "shell.execute_reply": "2025-10-16T19:56:05.330307Z"
    },
    "papermill": {
     "duration": 0.017561,
     "end_time": "2025-10-16T19:56:05.332225",
     "exception": false,
     "start_time": "2025-10-16T19:56:05.314664",
     "status": "completed"
    },
    "tags": []
   },
   "outputs": [
    {
     "name": "stdout",
     "output_type": "stream",
     "text": [
      "======================================================================\n",
      "🔄 STEP 3: PURGED K-FOLD CV\n",
      "======================================================================\n",
      "Initialized: K=5, Embargo=1.0%\n",
      "✅ Step 3 Complete\n",
      "\n"
     ]
    }
   ],
   "source": [
    "print(\"=\" * 70)\n",
    "print(\"🔄 STEP 3: PURGED K-FOLD CV\")\n",
    "print(\"=\" * 70)\n",
    "\n",
    "class PurgedKFoldEmbargo:\n",
    "    def __init__(self, n_splits=5, embargo_pct=0.01):  # ✅ double underscores\n",
    "        assert n_splits >= 2\n",
    "        assert 0.0 <= embargo_pct < 1.0\n",
    "        self.n_splits = n_splits\n",
    "        self.embargo_pct = embargo_pct\n",
    "        print(f\"Initialized: K={n_splits}, Embargo={embargo_pct*100:.1f}%\")\n",
    "\n",
    "    def split(self, X, y=None, groups=None, events=None):\n",
    "        idx = X.index\n",
    "        n = len(idx)\n",
    "\n",
    "        # Compute fold sizes\n",
    "        fold_sizes = np.full(self.n_splits, n // self.n_splits, dtype=int)\n",
    "        fold_sizes[: n % self.n_splits] += 1\n",
    "\n",
    "        # Compute fold edges\n",
    "        edges = []\n",
    "        cur = 0\n",
    "        for fs in fold_sizes:\n",
    "            edges.append((cur, cur + fs))\n",
    "            cur += fs\n",
    "\n",
    "        embargo = int(np.ceil(self.embargo_pct * n))\n",
    "\n",
    "        # Map events to index positions\n",
    "        ev = None\n",
    "        if events is not None:\n",
    "            ev = events.copy()\n",
    "            ev = ev.loc[ev.index.intersection(idx)]\n",
    "            max_time = idx[-1]\n",
    "            ev['t1'] = ev['t1'].where(ev['t1'] <= max_time, max_time)\n",
    "            pos = pd.Series(np.arange(n), index=idx)\n",
    "            ev['start_pos'] = pos.reindex(ev.index).fillna(-1).astype(int)\n",
    "            ev['end_pos'] = np.searchsorted(idx.values, ev['t1'].values, side=\"right\") - 1\n",
    "            ev['end_pos'] = ev['end_pos'].clip(0, n - 1)\n",
    "            ev = ev[ev['start_pos'] >= 0]\n",
    "\n",
    "        # Yield train/test indices\n",
    "        for fold_idx, (a, b) in enumerate(edges):\n",
    "            test_idx = np.arange(a, b, dtype=int)\n",
    "            mask = np.ones(n, dtype=bool)\n",
    "            L = max(0, a - embargo)\n",
    "            R = min(n, b + embargo)\n",
    "            mask[L:R] = False\n",
    "\n",
    "            # Apply purge logic\n",
    "            if ev is not None:\n",
    "                ts, te = a, b - 1\n",
    "                overlap = (ev['start_pos'] <= te) & (ev['end_pos'] >= ts)\n",
    "                if overlap.any():\n",
    "                    pL = int(ev.loc[overlap, 'start_pos'].min())\n",
    "                    pR = int(ev.loc[overlap, 'end_pos'].max())\n",
    "                    mask[pL:pR + 1] = False\n",
    "\n",
    "            mask[test_idx] = False\n",
    "            train_idx = np.flatnonzero(mask)\n",
    "\n",
    "            yield train_idx, test_idx\n",
    "\n",
    "\n",
    "# Initialize Purged K-Fold with Embargo\n",
    "cv = PurgedKFoldEmbargo(n_splits=5, embargo_pct=0.01)\n",
    "print(\"✅ Step 3 Complete\\n\")\n"
   ]
  },
  {
   "cell_type": "code",
   "execution_count": 6,
   "id": "93adb405",
   "metadata": {
    "execution": {
     "iopub.execute_input": "2025-10-16T19:56:05.341488Z",
     "iopub.status.busy": "2025-10-16T19:56:05.341052Z",
     "iopub.status.idle": "2025-10-16T19:56:12.279271Z",
     "shell.execute_reply": "2025-10-16T19:56:12.278419Z"
    },
    "papermill": {
     "duration": 6.944066,
     "end_time": "2025-10-16T19:56:12.280598",
     "exception": false,
     "start_time": "2025-10-16T19:56:05.336532",
     "status": "completed"
    },
    "tags": []
   },
   "outputs": [
    {
     "name": "stdout",
     "output_type": "stream",
     "text": [
      "======================================================================\n",
      "🔧 STEP 4: FEATURE ENGINEERING\n",
      "======================================================================\n",
      "Features created: 12\n",
      "✅ Step 4 Complete\n",
      "\n"
     ]
    }
   ],
   "source": [
    " \n",
    "# STEP 4: Feature Engineering\n",
    "# ===================================================================\n",
    "print(\"=\"*70)\n",
    "print(\"🔧 STEP 4: FEATURE ENGINEERING\")\n",
    "print(\"=\"*70)\n",
    "\n",
    "X = pd.DataFrame(index=X_raw.index)\n",
    "\n",
    "# Returns\n",
    "X['ret_1'] = X_raw['close'].pct_change(1)\n",
    "X['ret_5'] = X_raw['close'].pct_change(5)\n",
    "X['ret_15'] = X_raw['close'].pct_change(15)\n",
    "\n",
    "# Price ranges\n",
    "X['hl_range'] = (X_raw['high'] - X_raw['low']) / X_raw['close'].shift(1)\n",
    "X['co_range'] = (X_raw['close'] - X_raw['open']) / X_raw['open']\n",
    "\n",
    "# Volatility\n",
    "X['vol_roll5'] = X['ret_1'].rolling(5).std()\n",
    "X['vol_roll10'] = X['ret_1'].rolling(10).std()\n",
    "\n",
    "# Volume\n",
    "X['vol_z_30'] = ((X_raw['volume'] - X_raw['volume'].rolling(30).mean()) / \n",
    "                  X_raw['volume'].rolling(30).std())\n",
    "\n",
    "# RSI\n",
    "def compute_rsi(prices, period=14):\n",
    "    delta = prices.diff()\n",
    "    gain = delta.clip(lower=0)\n",
    "    loss = -delta.clip(upper=0)\n",
    "    avg_gain = gain.ewm(span=period, adjust=False).mean()\n",
    "    avg_loss = loss.ewm(span=period, adjust=False).mean()\n",
    "    rs = avg_gain / (avg_loss + 1e-8)\n",
    "    rsi = 100 - (100 / (1 + rs))\n",
    "    return rsi\n",
    "\n",
    "X['rsi_14'] = compute_rsi(X_raw['close'], period=14)\n",
    "\n",
    "# Moving averages\n",
    "X['sma_5'] = X_raw['close'].rolling(5).mean()\n",
    "X['sma_20'] = X_raw['close'].rolling(20).mean()\n",
    "X['price_sma5_ratio'] = X_raw['close'] / X['sma_5']\n",
    "\n",
    "X = X.replace([np.inf, -np.inf], np.nan).fillna(0.0)\n",
    "y = y.loc[X.index]\n",
    "\n",
    "print(f\"Features created: {X.shape[1]}\")\n",
    "print(\"✅ Step 4 Complete\\n\")"
   ]
  },
  {
   "cell_type": "code",
   "execution_count": 7,
   "id": "1c6ad792",
   "metadata": {
    "execution": {
     "iopub.execute_input": "2025-10-16T19:56:12.290888Z",
     "iopub.status.busy": "2025-10-16T19:56:12.290348Z",
     "iopub.status.idle": "2025-10-16T19:56:12.296120Z",
     "shell.execute_reply": "2025-10-16T19:56:12.295325Z"
    },
    "jupyter": {
     "source_hidden": true
    },
    "papermill": {
     "duration": 0.011963,
     "end_time": "2025-10-16T19:56:12.297438",
     "exception": false,
     "start_time": "2025-10-16T19:56:12.285475",
     "status": "completed"
    },
    "tags": []
   },
   "outputs": [],
   "source": [
    "def clone(model): \n",
    "    return copy.deepcopy(model)\n",
    "\n",
    "# Pick ONE model to start (others commented)\n",
    "rf = RandomForestClassifier(\n",
    "    n_estimators=300,         # lower to speed up; raise later\n",
    "    max_depth=None,\n",
    "    min_samples_leaf=2,\n",
    "    max_features='sqrt',\n",
    "    class_weight='balanced_subsample',\n",
    "    n_jobs=-1,\n",
    "    random_state=42\n",
    ")\n",
    "\n",
    "xgb = XGBClassifier(\n",
    "    n_estimators=400,         # lower for speed; use early stopping later\n",
    "    max_depth=5,\n",
    "    learning_rate=0.05,\n",
    "    subsample=0.8,\n",
    "    colsample_bytree=0.8,\n",
    "    reg_lambda=1.0,\n",
    "    n_jobs=-1,\n",
    "    tree_method='hist',\n",
    "    eval_metric='logloss',\n",
    "    random_state=42\n",
    ")\n",
    "\n",
    "lgb = LGBMClassifier(\n",
    "    n_estimators=600,         # lower for speed; use early stopping later\n",
    "    learning_rate=0.05,\n",
    "    max_depth=-1,\n",
    "    subsample=0.8,\n",
    "    colsample_bytree=0.8,\n",
    "    reg_lambda=1.0,\n",
    "    n_jobs=-1,\n",
    "    objective='binary',\n",
    "    random_state=42,\n",
    ")\n",
    "\n",
    "MODEL_NAME = \"RandomForest\"     # ← change to \"XGBoost\" or \"LightGBM\" later\n",
    "MODEL = {\"RandomForest\": rf, \"XGBoost\": xgb, \"LightGBM\": lgb}[MODEL_NAME]\n"
   ]
  },
  {
   "cell_type": "code",
   "execution_count": 8,
   "id": "e801adbe",
   "metadata": {
    "execution": {
     "iopub.execute_input": "2025-10-16T19:56:12.307505Z",
     "iopub.status.busy": "2025-10-16T19:56:12.307109Z",
     "iopub.status.idle": "2025-10-16T20:23:27.366972Z",
     "shell.execute_reply": "2025-10-16T20:23:27.366139Z"
    },
    "papermill": {
     "duration": 1635.069881,
     "end_time": "2025-10-16T20:23:27.371988",
     "exception": false,
     "start_time": "2025-10-16T19:56:12.302107",
     "status": "completed"
    },
    "tags": []
   },
   "outputs": [
    {
     "name": "stdout",
     "output_type": "stream",
     "text": [
      "======================================================================\n",
      "Running ONE fold for RandomForest ...\n",
      "Fold 1 → AUC=0.4970 | ACC=0.5011\n"
     ]
    }
   ],
   "source": [
    "from math import isfinite\n",
    "\n",
    "def fit_predict_fold(model, Xtr, ytr, Xte, yte):\n",
    "    m = clone(model)\n",
    "    # early stopping for boosters\n",
    "    if isinstance(m, XGBClassifier):\n",
    "        m.set_params(n_estimators=2000)  # allow more, but ES will cut\n",
    "        m.fit(Xtr, ytr, eval_set=[(Xte, yte)], verbose=False, early_stopping_rounds=100)\n",
    "    elif isinstance(m, LGBMClassifier):\n",
    "        m.set_params(n_estimators=2000)  # allow more, but ES will cut\n",
    "        m.fit(Xtr, ytr, eval_set=[(Xte, yte)], verbose=False, early_stopping_rounds=100)\n",
    "    else:\n",
    "        m.fit(Xtr, ytr)\n",
    "    p = m.predict_proba(Xte)[:, 1]\n",
    "    pred = (p >= 0.5).astype(int)\n",
    "    auc = roc_auc_score(yte, p)\n",
    "    acc = accuracy_score(yte, pred)\n",
    "    return auc, acc\n",
    "\n",
    "print(\"=\"*70)\n",
    "print(f\"Running ONE fold for {MODEL_NAME} ...\")\n",
    "\n",
    "folds = list(cv.split(X, events=events))\n",
    "(tr, te) = folds[0]  # first fold only\n",
    "auc, acc = fit_predict_fold(MODEL, X.iloc[tr], y.iloc[tr], X.iloc[te], y.iloc[te])\n",
    "print(f\"Fold 1 → AUC={auc:.4f} | ACC={acc:.4f}\")\n"
   ]
  },
  {
   "cell_type": "code",
   "execution_count": 9,
   "id": "a2aac589",
   "metadata": {
    "execution": {
     "iopub.execute_input": "2025-10-16T20:23:27.381497Z",
     "iopub.status.busy": "2025-10-16T20:23:27.381110Z",
     "iopub.status.idle": "2025-10-16T21:17:23.315893Z",
     "shell.execute_reply": "2025-10-16T21:17:23.314938Z"
    },
    "papermill": {
     "duration": 3235.945587,
     "end_time": "2025-10-16T21:17:23.321926",
     "exception": false,
     "start_time": "2025-10-16T20:23:27.376339",
     "status": "completed"
    },
    "tags": []
   },
   "outputs": [
    {
     "name": "stdout",
     "output_type": "stream",
     "text": [
      "Fold 1 → AUC=0.4970 | ACC=0.5011\n",
      "Fold 2 → AUC=0.5014 | ACC=0.5026\n",
      "----------------------------------------------------------------------\n",
      "RandomForest PARTIAL → AUC=0.4992±0.0022 | ACC=0.5018±0.0007\n"
     ]
    }
   ],
   "source": [
    "START_FOLD = 0   # 0-based\n",
    "END_FOLD   = 2   # not inclusive; so folds 0 and 1\n",
    "\n",
    "aucs, accs = [], []\n",
    "for fi, (tr, te) in enumerate(folds[START_FOLD:END_FOLD], start=START_FOLD+1):\n",
    "    auc, acc = fit_predict_fold(MODEL, X.iloc[tr], y.iloc[tr], X.iloc[te], y.iloc[te])\n",
    "    aucs.append(auc); accs.append(acc)\n",
    "    print(f\"Fold {fi} → AUC={auc:.4f} | ACC={acc:.4f}\")\n",
    "\n",
    "print(\"-\"*70)\n",
    "print(f\"{MODEL_NAME} PARTIAL → AUC={np.mean(aucs):.4f}±{np.std(aucs):.4f} | ACC={np.mean(accs):.4f}±{np.std(accs):.4f}\")\n"
   ]
  },
  {
   "cell_type": "code",
   "execution_count": 10,
   "id": "6e2700e7",
   "metadata": {
    "execution": {
     "iopub.execute_input": "2025-10-16T21:17:23.332539Z",
     "iopub.status.busy": "2025-10-16T21:17:23.332314Z",
     "iopub.status.idle": "2025-10-16T21:17:23.574057Z",
     "shell.execute_reply": "2025-10-16T21:17:23.573268Z"
    },
    "papermill": {
     "duration": 0.248436,
     "end_time": "2025-10-16T21:17:23.575278",
     "exception": false,
     "start_time": "2025-10-16T21:17:23.326842",
     "status": "completed"
    },
    "tags": []
   },
   "outputs": [
    {
     "name": "stdout",
     "output_type": "stream",
     "text": [
      "Duplicate timestamps in X: 638054\n",
      "Duplicate timestamps in y: 2656940\n"
     ]
    }
   ],
   "source": [
    "dup_count = X.index.duplicated().sum()\n",
    "print(f\"Duplicate timestamps in X: {dup_count}\")\n",
    "\n",
    "dup_count_y = y.index.duplicated().sum()\n",
    "print(f\"Duplicate timestamps in y: {dup_count_y}\")\n"
   ]
  },
  {
   "cell_type": "code",
   "execution_count": 11,
   "id": "345b560a",
   "metadata": {
    "execution": {
     "iopub.execute_input": "2025-10-16T21:17:23.585891Z",
     "iopub.status.busy": "2025-10-16T21:17:23.585638Z",
     "iopub.status.idle": "2025-10-16T21:17:23.670322Z",
     "shell.execute_reply": "2025-10-16T21:17:23.669272Z"
    },
    "papermill": {
     "duration": 0.091133,
     "end_time": "2025-10-16T21:17:23.671500",
     "exception": false,
     "start_time": "2025-10-16T21:17:23.580367",
     "status": "completed"
    },
    "tags": []
   },
   "outputs": [
    {
     "name": "stdout",
     "output_type": "stream",
     "text": [
      "Example duplicate times in X:\n",
      " DatetimeIndex(['2008-01-25 07:30:00', '2008-01-25 07:31:00',\n",
      "               '2008-01-25 07:32:00', '2008-01-25 07:33:00',\n",
      "               '2008-01-25 07:34:00', '2008-01-25 07:35:00',\n",
      "               '2008-01-25 07:36:00', '2008-01-25 07:37:00',\n",
      "               '2008-01-25 07:38:00', '2008-01-25 07:39:00'],\n",
      "              dtype='datetime64[ns]', name='datetime', freq=None)\n",
      "\n",
      "Count of rows per duplicate timestamp:\n",
      "datetime\n",
      "2008-01-25 07:30:00    3\n",
      "2008-01-25 07:31:00    3\n",
      "2008-01-25 07:32:00    3\n",
      "2008-01-25 07:33:00    3\n",
      "2008-01-25 07:34:00    3\n",
      "dtype: int64\n"
     ]
    }
   ],
   "source": [
    "# See sample duplicate timestamps\n",
    "dup_times = X.index[X.index.duplicated()].unique()[:10]\n",
    "print(\"Example duplicate times in X:\\n\", dup_times)\n",
    "print(\"\\nCount of rows per duplicate timestamp:\")\n",
    "print(X.loc[dup_times].groupby(level=0).size().head())\n"
   ]
  },
  {
   "cell_type": "code",
   "execution_count": 12,
   "id": "02b3faa0",
   "metadata": {
    "execution": {
     "iopub.execute_input": "2025-10-16T21:17:23.681966Z",
     "iopub.status.busy": "2025-10-16T21:17:23.681484Z",
     "iopub.status.idle": "2025-10-16T21:17:23.998154Z",
     "shell.execute_reply": "2025-10-16T21:17:23.997516Z"
    },
    "papermill": {
     "duration": 0.323223,
     "end_time": "2025-10-16T21:17:23.999575",
     "exception": false,
     "start_time": "2025-10-16T21:17:23.676352",
     "status": "completed"
    },
    "tags": []
   },
   "outputs": [],
   "source": [
    "# Aggregate triplicate minute bars into single bar per minute\n",
    "X_agg = X_raw.groupby(X_raw.index).agg({\n",
    "    'open': 'first',     # first open of the minute\n",
    "    'high': 'max',       # highest high\n",
    "    'low': 'min',        # lowest low\n",
    "    'close': 'last',     # last close\n",
    "    'volume': 'sum'      # total traded volume\n",
    "})\n"
   ]
  },
  {
   "cell_type": "code",
   "execution_count": 13,
   "id": "297ae3dc",
   "metadata": {
    "execution": {
     "iopub.execute_input": "2025-10-16T21:17:24.010518Z",
     "iopub.status.busy": "2025-10-16T21:17:24.009932Z",
     "iopub.status.idle": "2025-10-16T21:17:24.077677Z",
     "shell.execute_reply": "2025-10-16T21:17:24.076747Z"
    },
    "papermill": {
     "duration": 0.07447,
     "end_time": "2025-10-16T21:17:24.079029",
     "exception": false,
     "start_time": "2025-10-16T21:17:24.004559",
     "status": "completed"
    },
    "tags": []
   },
   "outputs": [
    {
     "name": "stdout",
     "output_type": "stream",
     "text": [
      "Before aggregation: (2070834, 5)\n",
      "After aggregation:  (1432780, 5)\n",
      "Duplicate timestamps after agg: 0\n"
     ]
    }
   ],
   "source": [
    "print(f\"Before aggregation: {X_raw.shape}\")\n",
    "print(f\"After aggregation:  {X_agg.shape}\")\n",
    "print(f\"Duplicate timestamps after agg: {X_agg.index.duplicated().sum()}\")\n"
   ]
  },
  {
   "cell_type": "code",
   "execution_count": 14,
   "id": "c21e028f",
   "metadata": {
    "execution": {
     "iopub.execute_input": "2025-10-16T21:17:24.089595Z",
     "iopub.status.busy": "2025-10-16T21:17:24.089376Z",
     "iopub.status.idle": "2025-10-16T21:17:24.103329Z",
     "shell.execute_reply": "2025-10-16T21:17:24.102691Z"
    },
    "papermill": {
     "duration": 0.020681,
     "end_time": "2025-10-16T21:17:24.104539",
     "exception": false,
     "start_time": "2025-10-16T21:17:24.083858",
     "status": "completed"
    },
    "tags": []
   },
   "outputs": [],
   "source": [
    "H = 15  # 15-minute horizon\n",
    "ret = X_agg['close'].shift(-H).div(X_agg['close']).sub(1.0)\n",
    "y = (ret > 0.0).astype(int).dropna()\n"
   ]
  },
  {
   "cell_type": "code",
   "execution_count": 15,
   "id": "eea58cc2",
   "metadata": {
    "execution": {
     "iopub.execute_input": "2025-10-16T21:17:24.114913Z",
     "iopub.status.busy": "2025-10-16T21:17:24.114711Z",
     "iopub.status.idle": "2025-10-16T21:17:24.145803Z",
     "shell.execute_reply": "2025-10-16T21:17:24.145161Z"
    },
    "papermill": {
     "duration": 0.037485,
     "end_time": "2025-10-16T21:17:24.147168",
     "exception": false,
     "start_time": "2025-10-16T21:17:24.109683",
     "status": "completed"
    },
    "tags": []
   },
   "outputs": [],
   "source": [
    "X_agg = X_agg.loc[y.index]\n"
   ]
  },
  {
   "cell_type": "code",
   "execution_count": 16,
   "id": "de67dc5b",
   "metadata": {
    "execution": {
     "iopub.execute_input": "2025-10-16T21:17:24.158141Z",
     "iopub.status.busy": "2025-10-16T21:17:24.157518Z",
     "iopub.status.idle": "2025-10-16T21:17:24.182662Z",
     "shell.execute_reply": "2025-10-16T21:17:24.182055Z"
    },
    "papermill": {
     "duration": 0.031603,
     "end_time": "2025-10-16T21:17:24.183754",
     "exception": false,
     "start_time": "2025-10-16T21:17:24.152151",
     "status": "completed"
    },
    "tags": []
   },
   "outputs": [],
   "source": [
    "events = pd.DataFrame(index=X_agg.index)\n",
    "events['t1'] = X_agg.index + pd.Timedelta(minutes=H)\n",
    "max_time = X_agg.index[-1]\n",
    "events['t1'] = events['t1'].where(events['t1'] <= max_time, max_time)\n"
   ]
  },
  {
   "cell_type": "code",
   "execution_count": 17,
   "id": "f201b22b",
   "metadata": {
    "execution": {
     "iopub.execute_input": "2025-10-16T21:17:24.193863Z",
     "iopub.status.busy": "2025-10-16T21:17:24.193651Z",
     "iopub.status.idle": "2025-10-16T21:17:24.872320Z",
     "shell.execute_reply": "2025-10-16T21:17:24.871659Z"
    },
    "papermill": {
     "duration": 0.685089,
     "end_time": "2025-10-16T21:17:24.873650",
     "exception": false,
     "start_time": "2025-10-16T21:17:24.188561",
     "status": "completed"
    },
    "tags": []
   },
   "outputs": [],
   "source": [
    "X = pd.DataFrame(index=X_agg.index)\n",
    "\n",
    "# Returns\n",
    "X['ret_1'] = X_agg['close'].pct_change(1)\n",
    "X['ret_5'] = X_agg['close'].pct_change(5)\n",
    "X['ret_15'] = X_agg['close'].pct_change(15)\n",
    "\n",
    "# Price ranges\n",
    "X['hl_range'] = (X_agg['high'] - X_agg['low']) / X_agg['close'].shift(1)\n",
    "X['co_range'] = (X_agg['close'] - X_agg['open']) / X_agg['open']\n",
    "\n",
    "# Volatility\n",
    "X['vol_roll5'] = X['ret_1'].rolling(5).std()\n",
    "X['vol_roll10'] = X['ret_1'].rolling(10).std()\n",
    "\n",
    "# Volume\n",
    "X['vol_z_30'] = (X_agg['volume'] - X_agg['volume'].rolling(30).mean()) / X_agg['volume'].rolling(30).std()\n",
    "\n",
    "# RSI\n",
    "def compute_rsi(prices, period=14):\n",
    "    delta = prices.diff()\n",
    "    gain = delta.clip(lower=0)\n",
    "    loss = -delta.clip(upper=0)\n",
    "    avg_gain = gain.ewm(span=period, adjust=False).mean()\n",
    "    avg_loss = loss.ewm(span=period, adjust=False).mean()\n",
    "    rs = avg_gain / (avg_loss + 1e-8)\n",
    "    rsi = 100 - (100 / (1 + rs))\n",
    "    return rsi\n",
    "\n",
    "X['rsi_14'] = compute_rsi(X_agg['close'], period=14)\n",
    "\n",
    "# Moving averages\n",
    "X['sma_5'] = X_agg['close'].rolling(5).mean()\n",
    "X['sma_20'] = X_agg['close'].rolling(20).mean()\n",
    "X['price_sma5_ratio'] = X_agg['close'] / X['sma_5']\n",
    "\n",
    "# Cleanup\n",
    "X = X.replace([np.inf, -np.inf], np.nan).fillna(0.0)\n",
    "y = y.loc[X.index]\n"
   ]
  },
  {
   "cell_type": "code",
   "execution_count": 18,
   "id": "7523c471",
   "metadata": {
    "execution": {
     "iopub.execute_input": "2025-10-16T21:17:24.884273Z",
     "iopub.status.busy": "2025-10-16T21:17:24.884048Z",
     "iopub.status.idle": "2025-10-16T21:17:24.935547Z",
     "shell.execute_reply": "2025-10-16T21:17:24.934566Z"
    },
    "papermill": {
     "duration": 0.058016,
     "end_time": "2025-10-16T21:17:24.936765",
     "exception": false,
     "start_time": "2025-10-16T21:17:24.878749",
     "status": "completed"
    },
    "tags": []
   },
   "outputs": [
    {
     "name": "stdout",
     "output_type": "stream",
     "text": [
      "Final Shapes — X: (1432780, 12), y: (1432780,)\n",
      "Duplicate timestamps left: 0\n"
     ]
    }
   ],
   "source": [
    "print(f\"Final Shapes — X: {X.shape}, y: {y.shape}\")\n",
    "print(f\"Duplicate timestamps left: {X.index.duplicated().sum()}\")\n",
    "assert len(X) == len(y)\n"
   ]
  },
  {
   "cell_type": "code",
   "execution_count": 19,
   "id": "53a94c83",
   "metadata": {
    "execution": {
     "iopub.execute_input": "2025-10-16T21:17:24.947422Z",
     "iopub.status.busy": "2025-10-16T21:17:24.947211Z",
     "iopub.status.idle": "2025-10-16T21:17:25.129850Z",
     "shell.execute_reply": "2025-10-16T21:17:25.128883Z"
    },
    "papermill": {
     "duration": 0.189029,
     "end_time": "2025-10-16T21:17:25.131041",
     "exception": true,
     "start_time": "2025-10-16T21:17:24.942012",
     "status": "failed"
    },
    "tags": []
   },
   "outputs": [
    {
     "ename": "NameError",
     "evalue": "name 'X_sample' is not defined",
     "output_type": "error",
     "traceback": [
      "\u001b[0;31m---------------------------------------------------------------------------\u001b[0m",
      "\u001b[0;31mNameError\u001b[0m                                 Traceback (most recent call last)",
      "\u001b[0;32m/tmp/ipykernel_19/3379906934.py\u001b[0m in \u001b[0;36m<cell line: 0>\u001b[0;34m()\u001b[0m\n\u001b[1;32m     11\u001b[0m )\n\u001b[1;32m     12\u001b[0m \u001b[0;34m\u001b[0m\u001b[0m\n\u001b[0;32m---> 13\u001b[0;31m \u001b[0mxgb_model\u001b[0m\u001b[0;34m.\u001b[0m\u001b[0mfit\u001b[0m\u001b[0;34m(\u001b[0m\u001b[0mX_sample\u001b[0m\u001b[0;34m,\u001b[0m \u001b[0my_sample\u001b[0m\u001b[0;34m,\u001b[0m \u001b[0mverbose\u001b[0m\u001b[0;34m=\u001b[0m\u001b[0;32mFalse\u001b[0m\u001b[0;34m)\u001b[0m\u001b[0;34m\u001b[0m\u001b[0;34m\u001b[0m\u001b[0m\n\u001b[0m\u001b[1;32m     14\u001b[0m \u001b[0mxgb_importance\u001b[0m \u001b[0;34m=\u001b[0m \u001b[0mpd\u001b[0m\u001b[0;34m.\u001b[0m\u001b[0mSeries\u001b[0m\u001b[0;34m(\u001b[0m\u001b[0mxgb_model\u001b[0m\u001b[0;34m.\u001b[0m\u001b[0mfeature_importances_\u001b[0m\u001b[0;34m,\u001b[0m \u001b[0mindex\u001b[0m\u001b[0;34m=\u001b[0m\u001b[0mX\u001b[0m\u001b[0;34m.\u001b[0m\u001b[0mcolumns\u001b[0m\u001b[0;34m)\u001b[0m\u001b[0;34m.\u001b[0m\u001b[0msort_values\u001b[0m\u001b[0;34m(\u001b[0m\u001b[0mascending\u001b[0m\u001b[0;34m=\u001b[0m\u001b[0;32mFalse\u001b[0m\u001b[0;34m)\u001b[0m\u001b[0;34m\u001b[0m\u001b[0;34m\u001b[0m\u001b[0m\n\u001b[1;32m     15\u001b[0m \u001b[0mprint\u001b[0m\u001b[0;34m(\u001b[0m\u001b[0mxgb_importance\u001b[0m\u001b[0;34m.\u001b[0m\u001b[0mhead\u001b[0m\u001b[0;34m(\u001b[0m\u001b[0;36m10\u001b[0m\u001b[0;34m)\u001b[0m\u001b[0;34m)\u001b[0m\u001b[0;34m\u001b[0m\u001b[0;34m\u001b[0m\u001b[0m\n",
      "\u001b[0;31mNameError\u001b[0m: name 'X_sample' is not defined"
     ]
    }
   ],
   "source": [
    "from xgboost import XGBClassifier\n",
    "\n",
    "xgb_model = XGBClassifier(\n",
    "    n_estimators=300,\n",
    "    max_depth=6,\n",
    "    learning_rate=0.05,\n",
    "    subsample=0.8,\n",
    "    colsample_bytree=0.8,\n",
    "    n_jobs=-1,\n",
    "    tree_method='hist'\n",
    ")\n",
    "\n",
    "xgb_model.fit(X_sample, y_sample, verbose=False)\n",
    "xgb_importance = pd.Series(xgb_model.feature_importances_, index=X.columns).sort_values(ascending=False)\n",
    "print(xgb_importance.head(10))\n"
   ]
  },
  {
   "cell_type": "code",
   "execution_count": null,
   "id": "9da80669",
   "metadata": {
    "execution": {
     "iopub.execute_input": "2025-10-16T19:52:28.419934Z",
     "iopub.status.busy": "2025-10-16T19:52:28.419318Z",
     "iopub.status.idle": "2025-10-16T19:52:40.219803Z",
     "shell.execute_reply": "2025-10-16T19:52:40.219120Z",
     "shell.execute_reply.started": "2025-10-16T19:52:28.419910Z"
    },
    "papermill": {
     "duration": null,
     "end_time": null,
     "exception": null,
     "start_time": null,
     "status": "pending"
    },
    "tags": []
   },
   "outputs": [],
   "source": [
    "print(\"=\"*70)\n",
    "print(\"📊 STEP 6B: FEATURE IMPORTANCE — Permutation (MDA)\")\n",
    "print(\"=\"*70)\n",
    "\n",
    "from sklearn.inspection import permutation_importance\n",
    "\n",
    "# Use the same trained XGBoost model\n",
    "mda_result = permutation_importance(\n",
    "    xgb_model,\n",
    "    X_sample,\n",
    "    y_sample,\n",
    "    scoring='roc_auc',\n",
    "    n_repeats=3,\n",
    "    random_state=42,\n",
    "    n_jobs=-1\n",
    ")\n",
    "\n",
    "mda = pd.Series(mda_result.importances_mean, index=X.columns).sort_values(ascending=False)\n",
    "print(mda.head(10))\n"
   ]
  },
  {
   "cell_type": "code",
   "execution_count": null,
   "id": "3f34b0b6",
   "metadata": {
    "execution": {
     "iopub.execute_input": "2025-10-16T19:52:52.340119Z",
     "iopub.status.busy": "2025-10-16T19:52:52.339420Z",
     "iopub.status.idle": "2025-10-16T19:52:54.815341Z",
     "shell.execute_reply": "2025-10-16T19:52:54.814714Z",
     "shell.execute_reply.started": "2025-10-16T19:52:52.340094Z"
    },
    "papermill": {
     "duration": null,
     "end_time": null,
     "exception": null,
     "start_time": null,
     "status": "pending"
    },
    "tags": []
   },
   "outputs": [],
   "source": [
    "print(\"=\"*70)\n",
    "print(\"📊 STEP 6C: FEATURE IMPORTANCE — Orthogonal (OFI)\")\n",
    "print(\"=\"*70)\n",
    "\n",
    "from sklearn.linear_model import LinearRegression\n",
    "\n",
    "def orthogonalize_features(X):\n",
    "    X_ortho = pd.DataFrame(index=X.index)\n",
    "    for col in X.columns:\n",
    "        others = [c for c in X.columns if c != col]\n",
    "        if len(others) == 0:\n",
    "            X_ortho[col] = X[col]\n",
    "            continue\n",
    "        model = LinearRegression().fit(X[others], X[col])\n",
    "        residual = X[col] - model.predict(X[others])\n",
    "        X_ortho[col] = residual\n",
    "    return X_ortho\n",
    "\n",
    "X_ortho_sample = orthogonalize_features(X_sample)\n",
    "\n",
    "xgb_model_ofi = XGBClassifier(\n",
    "    n_estimators=300,\n",
    "    max_depth=6,\n",
    "    learning_rate=0.05,\n",
    "    subsample=0.8,\n",
    "    colsample_bytree=0.8,\n",
    "    n_jobs=-1,\n",
    "    tree_method='hist'\n",
    ")\n",
    "\n",
    "xgb_model_ofi.fit(X_ortho_sample, y_sample, verbose=False)\n",
    "ofi = pd.Series(xgb_model_ofi.feature_importances_, index=X.columns).sort_values(ascending=False)\n",
    "print(ofi.head(10))\n"
   ]
  },
  {
   "cell_type": "code",
   "execution_count": null,
   "id": "76e7e8bd",
   "metadata": {
    "execution": {
     "iopub.execute_input": "2025-10-16T19:53:04.988445Z",
     "iopub.status.busy": "2025-10-16T19:53:04.987868Z",
     "iopub.status.idle": "2025-10-16T19:53:06.306514Z",
     "shell.execute_reply": "2025-10-16T19:53:06.305748Z",
     "shell.execute_reply.started": "2025-10-16T19:53:04.988422Z"
    },
    "papermill": {
     "duration": null,
     "end_time": null,
     "exception": null,
     "start_time": null,
     "status": "pending"
    },
    "tags": []
   },
   "outputs": [],
   "source": [
    "import matplotlib.pyplot as plt\n",
    "\n",
    "# Combine importances\n",
    "imp_df = pd.concat([\n",
    "    xgb_importance.rename(\"MDI\"),\n",
    "    mda.rename(\"MDA\"),\n",
    "    ofi.rename(\"OFI\")\n",
    "], axis=1).fillna(0)\n",
    "\n",
    "top_features = imp_df.mean(axis=1).sort_values(ascending=False).head(12).index\n",
    "\n",
    "imp_df.loc[top_features].plot(kind=\"bar\", figsize=(12,6))\n",
    "plt.title(\"Feature Importance Comparison — XGBoost (MDI vs MDA vs OFI)\")\n",
    "plt.ylabel(\"Importance Score\")\n",
    "plt.tight_layout()\n",
    "plt.show()\n"
   ]
  },
  {
   "cell_type": "code",
   "execution_count": null,
   "id": "d13ccaa5",
   "metadata": {
    "execution": {
     "iopub.execute_input": "2025-10-16T19:53:17.195220Z",
     "iopub.status.busy": "2025-10-16T19:53:17.194741Z",
     "iopub.status.idle": "2025-10-16T19:53:17.286160Z",
     "shell.execute_reply": "2025-10-16T19:53:17.285598Z",
     "shell.execute_reply.started": "2025-10-16T19:53:17.195198Z"
    },
    "papermill": {
     "duration": null,
     "end_time": null,
     "exception": null,
     "start_time": null,
     "status": "pending"
    },
    "tags": []
   },
   "outputs": [],
   "source": [
    "plt.savefig(\"feature_importance_comparison.png\", dpi=300)\n"
   ]
  },
  {
   "cell_type": "code",
   "execution_count": null,
   "id": "a636c0c2",
   "metadata": {
    "execution": {
     "iopub.execute_input": "2025-10-16T19:53:25.987704Z",
     "iopub.status.busy": "2025-10-16T19:53:25.987086Z",
     "iopub.status.idle": "2025-10-16T19:53:26.272931Z",
     "shell.execute_reply": "2025-10-16T19:53:26.272199Z",
     "shell.execute_reply.started": "2025-10-16T19:53:25.987682Z"
    },
    "papermill": {
     "duration": null,
     "end_time": null,
     "exception": null,
     "start_time": null,
     "status": "pending"
    },
    "tags": []
   },
   "outputs": [],
   "source": [
    "import seaborn as sns\n",
    "\n",
    "plt.figure(figsize=(10,6))\n",
    "sns.heatmap(X_sample.corr(), cmap=\"coolwarm\", center=0)\n",
    "plt.title(\"Feature Correlation Heatmap — Before Orthogonalization\")\n",
    "plt.show()\n"
   ]
  },
  {
   "cell_type": "code",
   "execution_count": null,
   "id": "df156808",
   "metadata": {
    "papermill": {
     "duration": null,
     "end_time": null,
     "exception": null,
     "start_time": null,
     "status": "pending"
    },
    "tags": []
   },
   "outputs": [],
   "source": []
  },
  {
   "cell_type": "code",
   "execution_count": null,
   "id": "c51932a0",
   "metadata": {
    "papermill": {
     "duration": null,
     "end_time": null,
     "exception": null,
     "start_time": null,
     "status": "pending"
    },
    "tags": []
   },
   "outputs": [],
   "source": []
  }
 ],
 "metadata": {
  "kaggle": {
   "accelerator": "nvidiaTeslaT4",
   "dataSources": [
    {
     "databundleVersionId": 13317300,
     "datasetId": 8029626,
     "isSourceIdPinned": false,
     "sourceId": 12704931,
     "sourceType": "datasetVersion"
    }
   ],
   "dockerImageVersionId": 31154,
   "isGpuEnabled": true,
   "isInternetEnabled": true,
   "language": "python",
   "sourceType": "notebook"
  },
  "kernelspec": {
   "display_name": "Python 3",
   "language": "python",
   "name": "python3"
  },
  "language_info": {
   "codemirror_mode": {
    "name": "ipython",
    "version": 3
   },
   "file_extension": ".py",
   "mimetype": "text/x-python",
   "name": "python",
   "nbconvert_exporter": "python",
   "pygments_lexer": "ipython3",
   "version": "3.11.13"
  },
  "papermill": {
   "default_parameters": {},
   "duration": 4910.072368,
   "end_time": "2025-10-16T21:17:26.154610",
   "environment_variables": {},
   "exception": true,
   "input_path": "__notebook__.ipynb",
   "output_path": "__notebook__.ipynb",
   "parameters": {},
   "start_time": "2025-10-16T19:55:36.082242",
   "version": "2.6.0"
  }
 },
 "nbformat": 4,
 "nbformat_minor": 5
}
